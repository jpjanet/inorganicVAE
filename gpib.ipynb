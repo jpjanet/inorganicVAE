{
 "cells": [
  {
   "cell_type": "code",
   "execution_count": 34,
   "metadata": {},
   "outputs": [
    {
     "name": "stdout",
     "output_type": "stream",
     "text": [
      "msk[8] = False\n",
      "normalizing with number of dimensions = 155\n",
      "normalizing with number of dimensions = 155\n",
      "normalizing with number of dimensions = 1\n",
      "normalizing with number of dimensions = 1\n",
      "(8, 155)\n"
     ]
    }
   ],
   "source": [
    "\n",
    "## based on \n",
    "# https://danijar.com/building-variational-auto-encoders-in-tensorflow/\n",
    "# https://towardsdatascience.com/teaching-a-variational-autoencoder-vae-to-draw-mnist-characters-978675c95776\n",
    "## Imports\n",
    "\n",
    "import numpy as np\n",
    "import tensorflow as tf\n",
    "import pandas as pd\n",
    "import sklearn.model_selection\n",
    "import os, glob, shutil, math, time\n",
    "# reset tf graph  \n",
    "tf.reset_default_graph()\n",
    "tf.logging.set_verbosity(tf.logging.ERROR)\n",
    "sess = tf.Session()\n",
    "## data pipeline from R-prepared CSV\n",
    "\n",
    "df = pd.read_csv(\"split_x.csv\",sep=\",\")\n",
    "data = df.values\n",
    "odf = pd.read_csv(\"split_y.csv\",sep=\",\")\n",
    "outcomes = odf.values\n",
    "\n",
    "\n",
    "## seed \n",
    "np.random.seed(134)\n",
    "\n",
    "m = np.shape(data)[0]\n",
    "d = np.shape(data)[1]\n",
    "p = 1\n",
    "\n",
    "## Functions\n",
    "def data_rescale(scaled_dat,train_mean,train_var):\n",
    "    d = np.shape(train_mean)[0]\n",
    "    print('unnormalizing with number of dimensions = ' +str(d))\n",
    "    dat = (np.multiply(scaled_dat.T,np.sqrt(train_var),)+train_mean).T\n",
    "    return(dat)\n",
    "def data_normalize(data,train_mean,train_var):\n",
    "    d = np.shape(train_mean)[0]\n",
    "    print('normalizing with number of dimensions = ' +str(d))\n",
    "    scaled_dat = np.divide((data.T - train_mean),np.sqrt(train_var),).T\n",
    "    return(scaled_dat)\n",
    "    \n",
    "## data generation\n",
    "# get random partition\n",
    "msk = np.random.rand(np.shape(data)[0]) < 0.01\n",
    "print('msk[8] = ' + str(msk[8]))\n",
    "\n",
    "# test and train split\n",
    "train_data_x = data[msk]\n",
    "test_data_x = data[~msk]\n",
    "train_data_y = outcomes[msk]\n",
    "test_data_y = outcomes[~msk]\n",
    "\n",
    "\n",
    "\n",
    "# non-dimenisionalization\n",
    "train_var_x = np.var(train_data_x,0).reshape(d,1)\n",
    "train_mean_x = np.mean(train_data_x,0).reshape(d,1)\n",
    "scaled_train_data_x = data_normalize(train_data_x,train_mean_x,train_var_x)\n",
    "scaled_test_data_x = data_normalize(test_data_x,train_mean_x,train_var_x)\n",
    "\n",
    "train_var_y = np.var(train_data_y,0).reshape(p,1)\n",
    "train_mean_y = np.mean(train_data_y,0).reshape(p,1)\n",
    "scaled_train_data_y = data_normalize(train_data_y,train_mean_y,train_var_y)\n",
    "scaled_test_data_y = data_normalize(test_data_y,train_mean_y,train_var_y)\n",
    "n_input = d # data input (img shape: 28*28)\n",
    "## tf variable placeholders for feeding\n",
    "with tf.name_scope('input'):\n",
    "    X = tf.placeholder(tf.float32,[None,n_input],name=\"X\")\n",
    "    Y = tf.placeholder(tf.float32,[None,n_input],name=\"Y\")\n",
    "    global_step = tf.Variable(0, trainable=False)\n",
    "    keep_prob = tf.placeholder(dtype=tf.float32, shape=(), name='keep_prob')\n",
    "\n",
    "print(scaled_train_data_x.shape)"
   ]
  },
  {
   "cell_type": "code",
   "execution_count": 37,
   "metadata": {},
   "outputs": [
    {
     "name": "stdout",
     "output_type": "stream",
     "text": [
      "[[-0.57735026  1.0229915   2.6457512  ...  1.3106446   0.91267973\n",
      "   1.276576  ]\n",
      " [-0.57735026 -1.7049859  -0.37796447 ...  0.10227119 -0.7180237\n",
      "  -0.77259487]\n",
      " [-0.57735026  0.47739604 -0.37796447 ...  0.30366677  1.1330451\n",
      "  -0.62752086]\n",
      " ...\n",
      " [-0.57735026  0.47739604 -0.37796447 ...  0.9707896   1.2065002\n",
      "   2.0744834 ]\n",
      " [ 1.7320508  -1.7049859  -0.37796447 ... -1.6347656  -0.7180237\n",
      "  -0.30110422]\n",
      " [ 1.7320508   0.47739604 -0.37796447 ... -1.5592424  -1.8198503\n",
      "  -0.77259487]]\n"
     ]
    }
   ],
   "source": [
    "rA = tf.reshape(tf.reduce_sum(tf.square(scaled_train_data_x), 1),[-1,1])\n",
    "\n",
    "# Initialize variables\n",
    "init = tf.global_variables_initializer()\n",
    "sess.run(init)\n",
    "\n",
    "print(sess.run(X, feed_dict={X: scaled_train_data_x}))\n",
    "vv = sess.run(rA)\n"
   ]
  },
  {
   "cell_type": "code",
   "execution_count": 40,
   "metadata": {},
   "outputs": [
    {
     "data": {
      "text/plain": [
       "(8, 1)"
      ]
     },
     "execution_count": 40,
     "metadata": {},
     "output_type": "execute_result"
    }
   ],
   "source": [
    "vv.shape"
   ]
  },
  {
   "cell_type": "code",
   "execution_count": 20,
   "metadata": {},
   "outputs": [
    {
     "data": {
      "text/plain": [
       "<tf.Tensor 'Reshape:0' shape=(1151, 1) dtype=float64>"
      ]
     },
     "execution_count": 20,
     "metadata": {},
     "output_type": "execute_result"
    }
   ],
   "source": [
    "tf.add(\n",
    "    tf.subtract(dist,\n",
    "                tf.multiply(2., \n",
    "                            tf.matmul(x_data, tf.transpose(x_data))))\n",
    "    , tf.transpose(dist))"
   ]
  },
  {
   "cell_type": "code",
   "execution_count": null,
   "metadata": {},
   "outputs": [],
   "source": [
    "\n",
    "rB = tf.reshape(tf.reduce_sum(tf.square(prediction_grid), 1),[-1,1])\n",
    "pred_sq_dist = tf.add(tf.subtract(rA, tf.multiply(2., tf.matmul(x_data, tf.transpose(prediction_grid)))), tf.transpose(rB))\n",
    "pred_kernel = tf.exp(tf.multiply(gamma, tf.abs(pred_sq_dist)))"
   ]
  }
 ],
 "metadata": {
  "kernelspec": {
   "display_name": "Python [default]",
   "language": "python",
   "name": "python3"
  },
  "language_info": {
   "codemirror_mode": {
    "name": "ipython",
    "version": 3
   },
   "file_extension": ".py",
   "mimetype": "text/x-python",
   "name": "python",
   "nbconvert_exporter": "python",
   "pygments_lexer": "ipython3",
   "version": "3.6.5"
  }
 },
 "nbformat": 4,
 "nbformat_minor": 2
}
